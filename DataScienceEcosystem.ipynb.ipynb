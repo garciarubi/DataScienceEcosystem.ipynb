{
  "metadata": {
    "kernelspec": {
      "name": "python",
      "display_name": "Python (Pyodide)",
      "language": "python"
    },
    "language_info": {
      "codemirror_mode": {
        "name": "python",
        "version": 3
      },
      "file_extension": ".py",
      "mimetype": "text/x-python",
      "name": "python",
      "nbconvert_exporter": "python",
      "pygments_lexer": "ipython3",
      "version": "3.8"
    }
  },
  "nbformat_minor": 4,
  "nbformat": 4,
  "cells": [
    {
      "cell_type": "markdown",
      "source": "# Data Science Tools and Ecosystem\n\nEn este cuaderno se presenta una sinopsis de las herramientas y el ecosistema de la Ciencia de Datos.\n\n## Popular Data Science Languages\n\n* Python\n* R\n* SQL\n\n### Python Libraries\n* NumPy\n* Pandas\n* Matplotlib\n* Seaborn",
      "metadata": {}
    },
    {
      "cell_type": "markdown",
      "source": "**Lenguajes populares en Ciencia de Datos:**\n\n* **Python:** Versátil, amplia comunidad, numerosas bibliotecas.\n* **R:** Especializado en estadística y gráficos.\n* **SQL:** Esencial para bases de datos relacionales.\n* **Julia:** Alto rendimiento, creciente popularidad.",
      "metadata": {}
    },
    {
      "cell_type": "markdown",
      "source": "**Algunas de las bibliotecas más utilizadas por los Científicos de Datos incluyen:**\n\n1. **NumPy:** La biblioteca fundamental para computación numérica en Python, proporcionando soporte para grandes matrices y arrays multidimensionales.\n2. **Pandas:** Una herramienta poderosa para manipulación y análisis de datos, ofreciendo estructuras de datos flexibles y eficientes como Series y DataFrames.\n3. **Matplotlib:** La biblioteca de visualización más básica en Python, permitiendo crear una amplia variedad de gráficos estáticos, como histogramas, diagramas de dispersión y gráficos de líneas.\n4. **Seaborn:** Construida sobre Matplotlib, Seaborn ofrece una interfaz de alto nivel para crear visualizaciones atractivas y informativas de datos estadísticos.\n5. **Scikit-learn:** Una biblioteca de aprendizaje automático que incluye una amplia gama de algoritmos para clasificación, regresión, clustering y reducción de dimensionalidad.",
      "metadata": {}
    },
    {
      "cell_type": "markdown",
      "source": "**Bibliotecas esenciales para Ciencia de Datos:**\n\n* **Pandas:** Manipulación y análisis de datos.\n* **NumPy:** Computación numérica.\n* **Matplotlib:** Visualizaciones estáticas.\n* **Seaborn:** Visualizaciones estadísticas atractivas.\n* **Scikit-learn:** Aprendizaje automático.\n* **TensorFlow/PyTorch:** Aprendizaje profundo.",
      "metadata": {}
    },
    {
      "cell_type": "markdown",
      "source": "| Herramientas de Ciencia de Datos |\n---|\n| Jupyter Notebook |\n| RStudio |\n| Visual Studio Code |",
      "metadata": {}
    },
    {
      "cell_type": "markdown",
      "source": "### Algunos ejemplos de evaluación de expresiones aritméticas en Python:\n\n| Expresión | Resultado | Descripción |\n|---|---|---|\n| 2 + 3 * 4 | 14 | Multiplicación tiene precedencia sobre la suma |\n| (2 + 3) * 4 | 20 | Paréntesis alteran el orden de las operaciones |\n| -5 ** 2 | 25 | Elevando un número negativo al cuadrado |\n| 3.14 * (2 ** 2) | 12.56 | Combinación de números enteros y de punto flotante |",
      "metadata": {}
    },
    {
      "cell_type": "code",
      "source": "# This is a simple arithmetic expression to multiply then add integers.\nresult = (3 * 4) + 5\nprint(result)",
      "metadata": {
        "trusted": true
      },
      "outputs": [
        {
          "name": "stdout",
          "text": "17\n",
          "output_type": "stream"
        }
      ],
      "execution_count": 4
    },
    {
      "cell_type": "code",
      "source": "# Esta expresión convertirá 200 minutos a horas dividiendo por 60.\nhoras = 200 / 60\nprint(horas, \"horas\")",
      "metadata": {
        "trusted": true
      },
      "outputs": [
        {
          "name": "stdout",
          "text": "3.3333333333333335 horas\n",
          "output_type": "stream"
        }
      ],
      "execution_count": 3
    },
    {
      "cell_type": "markdown",
      "source": "**Objectives:**\n1.   **Mastered Python!** We've become proficient in Python for data science.\n2.   **Visualized data:** Created stunning plots with Matplotlib and Seaborn.\n3.   **Cleaned and transformed data:** Used Pandas to prepare data for analysis.\n4.   **Built models!** Explored machine learning techniques with Scikit-learn.\n5.   **Neural networks:** Took our first steps into the world of deep learning.",
      "metadata": {}
    },
    {
      "cell_type": "markdown",
      "source": "## Author\n\n\n\nRubí",
      "metadata": {}
    }
  ]
}